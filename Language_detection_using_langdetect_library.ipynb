{
  "nbformat": 4,
  "nbformat_minor": 0,
  "metadata": {
    "colab": {
      "provenance": [],
      "authorship_tag": "ABX9TyMzJ2XWLTAet22bG5XYBUwj",
      "include_colab_link": true
    },
    "kernelspec": {
      "name": "python3",
      "display_name": "Python 3"
    },
    "language_info": {
      "name": "python"
    }
  },
  "cells": [
    {
      "cell_type": "markdown",
      "metadata": {
        "id": "view-in-github",
        "colab_type": "text"
      },
      "source": [
        "<a href=\"https://colab.research.google.com/github/08-SAKSHI/ML-Projects/blob/main/Language_detection_using_langdetect_library.ipynb\" target=\"_parent\"><img src=\"https://colab.research.google.com/assets/colab-badge.svg\" alt=\"Open In Colab\"/></a>"
      ]
    },
    {
      "cell_type": "code",
      "source": [
        "!pip install langdetect\n",
        "from langdetect import detect"
      ],
      "metadata": {
        "colab": {
          "base_uri": "https://localhost:8080/"
        },
        "id": "GMbO3COmgvUT",
        "outputId": "ae940db7-e402-49e6-a748-1c458010b073"
      },
      "execution_count": null,
      "outputs": [
        {
          "output_type": "stream",
          "name": "stdout",
          "text": [
            "Collecting langdetect\n",
            "  Downloading langdetect-1.0.9.tar.gz (981 kB)\n",
            "\u001b[?25l\r\u001b[K     |▍                               | 10 kB 18.7 MB/s eta 0:00:01\r\u001b[K     |▊                               | 20 kB 24.6 MB/s eta 0:00:01\r\u001b[K     |█                               | 30 kB 29.6 MB/s eta 0:00:01\r\u001b[K     |█▍                              | 40 kB 21.2 MB/s eta 0:00:01\r\u001b[K     |█▊                              | 51 kB 18.5 MB/s eta 0:00:01\r\u001b[K     |██                              | 61 kB 20.2 MB/s eta 0:00:01\r\u001b[K     |██▍                             | 71 kB 20.2 MB/s eta 0:00:01\r\u001b[K     |██▊                             | 81 kB 21.2 MB/s eta 0:00:01\r\u001b[K     |███                             | 92 kB 22.5 MB/s eta 0:00:01\r\u001b[K     |███▍                            | 102 kB 24.2 MB/s eta 0:00:01\r\u001b[K     |███▊                            | 112 kB 24.2 MB/s eta 0:00:01\r\u001b[K     |████                            | 122 kB 24.2 MB/s eta 0:00:01\r\u001b[K     |████▍                           | 133 kB 24.2 MB/s eta 0:00:01\r\u001b[K     |████▊                           | 143 kB 24.2 MB/s eta 0:00:01\r\u001b[K     |█████                           | 153 kB 24.2 MB/s eta 0:00:01\r\u001b[K     |█████▍                          | 163 kB 24.2 MB/s eta 0:00:01\r\u001b[K     |█████▊                          | 174 kB 24.2 MB/s eta 0:00:01\r\u001b[K     |██████                          | 184 kB 24.2 MB/s eta 0:00:01\r\u001b[K     |██████▍                         | 194 kB 24.2 MB/s eta 0:00:01\r\u001b[K     |██████▊                         | 204 kB 24.2 MB/s eta 0:00:01\r\u001b[K     |███████                         | 215 kB 24.2 MB/s eta 0:00:01\r\u001b[K     |███████▍                        | 225 kB 24.2 MB/s eta 0:00:01\r\u001b[K     |███████▊                        | 235 kB 24.2 MB/s eta 0:00:01\r\u001b[K     |████████                        | 245 kB 24.2 MB/s eta 0:00:01\r\u001b[K     |████████▍                       | 256 kB 24.2 MB/s eta 0:00:01\r\u001b[K     |████████▊                       | 266 kB 24.2 MB/s eta 0:00:01\r\u001b[K     |█████████                       | 276 kB 24.2 MB/s eta 0:00:01\r\u001b[K     |█████████▍                      | 286 kB 24.2 MB/s eta 0:00:01\r\u001b[K     |█████████▊                      | 296 kB 24.2 MB/s eta 0:00:01\r\u001b[K     |██████████                      | 307 kB 24.2 MB/s eta 0:00:01\r\u001b[K     |██████████▍                     | 317 kB 24.2 MB/s eta 0:00:01\r\u001b[K     |██████████▊                     | 327 kB 24.2 MB/s eta 0:00:01\r\u001b[K     |███████████                     | 337 kB 24.2 MB/s eta 0:00:01\r\u001b[K     |███████████▍                    | 348 kB 24.2 MB/s eta 0:00:01\r\u001b[K     |███████████▊                    | 358 kB 24.2 MB/s eta 0:00:01\r\u001b[K     |████████████                    | 368 kB 24.2 MB/s eta 0:00:01\r\u001b[K     |████████████▍                   | 378 kB 24.2 MB/s eta 0:00:01\r\u001b[K     |████████████▊                   | 389 kB 24.2 MB/s eta 0:00:01\r\u001b[K     |█████████████                   | 399 kB 24.2 MB/s eta 0:00:01\r\u001b[K     |█████████████▍                  | 409 kB 24.2 MB/s eta 0:00:01\r\u001b[K     |█████████████▊                  | 419 kB 24.2 MB/s eta 0:00:01\r\u001b[K     |██████████████                  | 430 kB 24.2 MB/s eta 0:00:01\r\u001b[K     |██████████████▍                 | 440 kB 24.2 MB/s eta 0:00:01\r\u001b[K     |██████████████▊                 | 450 kB 24.2 MB/s eta 0:00:01\r\u001b[K     |███████████████                 | 460 kB 24.2 MB/s eta 0:00:01\r\u001b[K     |███████████████▍                | 471 kB 24.2 MB/s eta 0:00:01\r\u001b[K     |███████████████▊                | 481 kB 24.2 MB/s eta 0:00:01\r\u001b[K     |████████████████                | 491 kB 24.2 MB/s eta 0:00:01\r\u001b[K     |████████████████▍               | 501 kB 24.2 MB/s eta 0:00:01\r\u001b[K     |████████████████▊               | 512 kB 24.2 MB/s eta 0:00:01\r\u001b[K     |█████████████████               | 522 kB 24.2 MB/s eta 0:00:01\r\u001b[K     |█████████████████▍              | 532 kB 24.2 MB/s eta 0:00:01\r\u001b[K     |█████████████████▊              | 542 kB 24.2 MB/s eta 0:00:01\r\u001b[K     |██████████████████              | 552 kB 24.2 MB/s eta 0:00:01\r\u001b[K     |██████████████████▍             | 563 kB 24.2 MB/s eta 0:00:01\r\u001b[K     |██████████████████▊             | 573 kB 24.2 MB/s eta 0:00:01\r\u001b[K     |███████████████████             | 583 kB 24.2 MB/s eta 0:00:01\r\u001b[K     |███████████████████▍            | 593 kB 24.2 MB/s eta 0:00:01\r\u001b[K     |███████████████████▊            | 604 kB 24.2 MB/s eta 0:00:01\r\u001b[K     |████████████████████            | 614 kB 24.2 MB/s eta 0:00:01\r\u001b[K     |████████████████████▍           | 624 kB 24.2 MB/s eta 0:00:01\r\u001b[K     |████████████████████▊           | 634 kB 24.2 MB/s eta 0:00:01\r\u001b[K     |█████████████████████           | 645 kB 24.2 MB/s eta 0:00:01\r\u001b[K     |█████████████████████▍          | 655 kB 24.2 MB/s eta 0:00:01\r\u001b[K     |█████████████████████▊          | 665 kB 24.2 MB/s eta 0:00:01\r\u001b[K     |██████████████████████          | 675 kB 24.2 MB/s eta 0:00:01\r\u001b[K     |██████████████████████▍         | 686 kB 24.2 MB/s eta 0:00:01\r\u001b[K     |██████████████████████▊         | 696 kB 24.2 MB/s eta 0:00:01\r\u001b[K     |███████████████████████         | 706 kB 24.2 MB/s eta 0:00:01\r\u001b[K     |███████████████████████▍        | 716 kB 24.2 MB/s eta 0:00:01\r\u001b[K     |███████████████████████▊        | 727 kB 24.2 MB/s eta 0:00:01\r\u001b[K     |████████████████████████        | 737 kB 24.2 MB/s eta 0:00:01\r\u001b[K     |████████████████████████▍       | 747 kB 24.2 MB/s eta 0:00:01\r\u001b[K     |████████████████████████▊       | 757 kB 24.2 MB/s eta 0:00:01\r\u001b[K     |█████████████████████████       | 768 kB 24.2 MB/s eta 0:00:01\r\u001b[K     |█████████████████████████▍      | 778 kB 24.2 MB/s eta 0:00:01\r\u001b[K     |█████████████████████████▊      | 788 kB 24.2 MB/s eta 0:00:01\r\u001b[K     |██████████████████████████      | 798 kB 24.2 MB/s eta 0:00:01\r\u001b[K     |██████████████████████████▍     | 808 kB 24.2 MB/s eta 0:00:01\r\u001b[K     |██████████████████████████▊     | 819 kB 24.2 MB/s eta 0:00:01\r\u001b[K     |███████████████████████████     | 829 kB 24.2 MB/s eta 0:00:01\r\u001b[K     |███████████████████████████▍    | 839 kB 24.2 MB/s eta 0:00:01\r\u001b[K     |███████████████████████████▊    | 849 kB 24.2 MB/s eta 0:00:01\r\u001b[K     |████████████████████████████    | 860 kB 24.2 MB/s eta 0:00:01\r\u001b[K     |████████████████████████████▍   | 870 kB 24.2 MB/s eta 0:00:01\r\u001b[K     |████████████████████████████▊   | 880 kB 24.2 MB/s eta 0:00:01\r\u001b[K     |█████████████████████████████   | 890 kB 24.2 MB/s eta 0:00:01\r\u001b[K     |█████████████████████████████▍  | 901 kB 24.2 MB/s eta 0:00:01\r\u001b[K     |█████████████████████████████▊  | 911 kB 24.2 MB/s eta 0:00:01\r\u001b[K     |██████████████████████████████  | 921 kB 24.2 MB/s eta 0:00:01\r\u001b[K     |██████████████████████████████▍ | 931 kB 24.2 MB/s eta 0:00:01\r\u001b[K     |██████████████████████████████▊ | 942 kB 24.2 MB/s eta 0:00:01\r\u001b[K     |███████████████████████████████ | 952 kB 24.2 MB/s eta 0:00:01\r\u001b[K     |███████████████████████████████▍| 962 kB 24.2 MB/s eta 0:00:01\r\u001b[K     |███████████████████████████████▊| 972 kB 24.2 MB/s eta 0:00:01\r\u001b[K     |████████████████████████████████| 981 kB 24.2 MB/s \n",
            "\u001b[?25hRequirement already satisfied: six in /usr/local/lib/python3.7/dist-packages (from langdetect) (1.15.0)\n",
            "Building wheels for collected packages: langdetect\n",
            "  Building wheel for langdetect (setup.py) ... \u001b[?25l\u001b[?25hdone\n",
            "  Created wheel for langdetect: filename=langdetect-1.0.9-py3-none-any.whl size=993242 sha256=78764da724a4df4a680480d5f98e1408b9e7d5aa829a36a57b79cff10db25f8b\n",
            "  Stored in directory: /root/.cache/pip/wheels/c5/96/8a/f90c59ed25d75e50a8c10a1b1c2d4c402e4dacfa87f3aff36a\n",
            "Successfully built langdetect\n",
            "Installing collected packages: langdetect\n",
            "Successfully installed langdetect-1.0.9\n"
          ]
        }
      ]
    },
    {
      "cell_type": "code",
      "source": [
        "m= \"this is the google colab laboratory\"\n",
        "detect(m)"
      ],
      "metadata": {
        "colab": {
          "base_uri": "https://localhost:8080/",
          "height": 35
        },
        "id": "iz80QkeZi3AI",
        "outputId": "2efdaf39-7aec-47a8-b359-3c71967454b5"
      },
      "execution_count": null,
      "outputs": [
        {
          "output_type": "execute_result",
          "data": {
            "text/plain": [
              "'en'"
            ],
            "application/vnd.google.colaboratory.intrinsic+json": {
              "type": "string"
            }
          },
          "metadata": {},
          "execution_count": 5
        }
      ]
    },
    {
      "cell_type": "code",
      "source": [
        "from langdetect.detector_factory import detect_langs\n",
        "detect_langs(m)"
      ],
      "metadata": {
        "colab": {
          "base_uri": "https://localhost:8080/"
        },
        "id": "zTXXQRJKi_qy",
        "outputId": "b68a78ad-85cc-4f5c-a70a-157037698eac"
      },
      "execution_count": null,
      "outputs": [
        {
          "output_type": "execute_result",
          "data": {
            "text/plain": [
              "[en:0.9999969119242765]"
            ]
          },
          "metadata": {},
          "execution_count": 6
        }
      ]
    }
  ]
}